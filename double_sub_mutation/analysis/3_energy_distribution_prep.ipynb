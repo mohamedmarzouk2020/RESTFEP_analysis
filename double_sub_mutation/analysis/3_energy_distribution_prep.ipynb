{
 "cells": [
  {
   "cell_type": "code",
   "execution_count": null,
   "metadata": {},
   "outputs": [],
   "source": []
  },
  {
   "cell_type": "code",
   "execution_count": 1,
   "metadata": {},
   "outputs": [],
   "source": [
    "# Add all libraries required\n",
    "import numpy as np\n",
    "import os\n",
    "import sys\n",
    "import matplotlib.pyplot as plt\n",
    "import matplotlib as mpl\n",
    "mpl.rcParams[\"font.family\"] = \"serif\""
   ]
  },
  {
   "cell_type": "code",
   "execution_count": 4,
   "metadata": {},
   "outputs": [],
   "source": [
    "# test for dir is refa\n",
    "dir =\"ref\""
   ]
  },
  {
   "cell_type": "code",
   "execution_count": 5,
   "metadata": {},
   "outputs": [],
   "source": [
    "cwd = os.getcwd()\n",
    "# Get info about the last replica from directories\n",
    "os.chdir(f\"{cwd}/../{dir}/prodrun/\")\n",
    "files = []\n",
    "for i in range(1, 200):  # of course I will not have replicas more than 200 if so change this number\n",
    "    if os.path.exists(str(\"rep\"+str(i))):\n",
    "        files.append(i)\n",
    "    else:\n",
    "        continue\n",
    "replicas = max(files)  # the total no of replicas"
   ]
  },
  {
   "cell_type": "code",
   "execution_count": 6,
   "metadata": {},
   "outputs": [
    {
     "name": "stdout",
     "output_type": "stream",
     "text": [
      "63\n"
     ]
    }
   ],
   "source": [
    "print(replicas)"
   ]
  },
  {
   "cell_type": "code",
   "execution_count": 7,
   "metadata": {},
   "outputs": [],
   "source": [
    "def pickupdata(dir, name):\n",
    "    os.chdir(f\"{cwd}/../{dir}/prodrun/\")\n",
    "    alldata = []\n",
    "    # For the rep0\n",
    "    data1 = []\n",
    "    with open(f\"rep{0}/{name}\") as f:\n",
    "        data = f.readlines()\n",
    "        for line in data:\n",
    "            if \"#\" in line or \"@\" in line:\n",
    "                continue\n",
    "            else:\n",
    "                data1.append(float(line.split()[2])-float(line.split()[4]))\n",
    "    alldata.append(data1)\n",
    "\n",
    "    # for All replicas 1 to before last\n",
    "    for i in range(1, replicas-1):\n",
    "        data1 = []\n",
    "        data2 = []\n",
    "        with open(\"rep{}/{}\".format(i, name)) as f:\n",
    "            data = f.readlines()\n",
    "            for line in data:\n",
    "                if \"#\" in line or \"@\" in line:\n",
    "                    continue\n",
    "                else:\n",
    "                    data1.append(float(line.split()[2])-float(line.split()[4]))\n",
    "                    data2.append(float(line.split()[4])-float(line.split()[6]))\n",
    "        alldata.append(data1)\n",
    "        alldata.append(data2)\n",
    "\n",
    "    # for the last replica\n",
    "    with open(\"rep{}/{}\".format(replicas-1, name)) as f:\n",
    "        data = f.readlines()\n",
    "        data1 = []\n",
    "        for line in data:\n",
    "            if \"#\" in line or \"@\" in line:\n",
    "                continue\n",
    "            else:\n",
    "                data1.append(float(line.split()[2])-float(line.split()[4]))\n",
    "    alldata.append(data1)\n",
    "\n",
    "    return alldata"
   ]
  },
  {
   "cell_type": "code",
   "execution_count": 8,
   "metadata": {},
   "outputs": [],
   "source": [
    "# Function to Plot  all replicas\n",
    "\n",
    "\n",
    "def plothist(list_data):\n",
    "    fig = plt.figure(figsize=(18, 12))\n",
    "    plt.rc('xtick', labelsize=18)\n",
    "    plt.rc('ytick', labelsize=18)\n",
    "    ax = fig.add_axes([0.2, 0.2, 0.8, 0.8])\n",
    "    # ax.set_xlim(-400, 400)\n",
    "    # ax.set_ylim(0, 0.15)\n",
    "    ax.set_title(\n",
    "        f\"The potential energy distribution of {replicas} replicas {dir}\", fontsize=20)\n",
    "    ax.set_xlabel('Energy ', fontsize=24, color='black')\n",
    "    ax.set_ylabel('Probability distribution(E)', fontsize=24, color='black')\n",
    "    for num in range(len(list_data)):\n",
    "        if num % 2 == 0:\n",
    "            plt.hist(list_data[num], histtype=\"step\",\n",
    "                     color=\"blue\", bins=350, density=True)\n",
    "        elif num % 2 == 1:\n",
    "            plt.hist(list_data[num], histtype=\"step\",\n",
    "                     color=\"g\", bins=350, density=True)\n",
    "    return fig\n",
    "\n"
   ]
  },
  {
   "cell_type": "code",
   "execution_count": 9,
   "metadata": {},
   "outputs": [],
   "source": [
    "# count the number of steps from the output files number\n",
    "files = []\n",
    "for i in range(2, 10):\n",
    "    if os.path.exists(f\"{cwd}/../{dir}/prodrun/\"+str(\"rep0/deltae.part000\"+str(i)+\".xvg\")):\n",
    "        files.append(f\"{cwd}/../{dir}/prodrun/\" +\n",
    "                     str(\"rep0/deltae.part000\"+str(i)+\".xvg\"))"
   ]
  },
  {
   "cell_type": "code",
   "execution_count": 10,
   "metadata": {},
   "outputs": [
    {
     "name": "stdout",
     "output_type": "stream",
     "text": [
      "marzouk\n"
     ]
    }
   ],
   "source": [
    "print(files[0].split(\"/\")[4])"
   ]
  },
  {
   "cell_type": "code",
   "execution_count": 12,
   "metadata": {},
   "outputs": [
    {
     "name": "stdout",
     "output_type": "stream",
     "text": [
      "/Users/marzouk/Desktop/marzouk/github_repos/RESTFEP_analysis/double_sub_mutation/analysis/../ref/prodrun/rep0/deltae.part0002.xvg\n"
     ]
    }
   ],
   "source": [
    "print(files[0])"
   ]
  },
  {
   "cell_type": "code",
   "execution_count": null,
   "metadata": {},
   "outputs": [],
   "source": []
  }
 ],
 "metadata": {
  "kernelspec": {
   "display_name": "Python 3.9.12 ('base')",
   "language": "python",
   "name": "python3"
  },
  "language_info": {
   "codemirror_mode": {
    "name": "ipython",
    "version": 3
   },
   "file_extension": ".py",
   "mimetype": "text/x-python",
   "name": "python",
   "nbconvert_exporter": "python",
   "pygments_lexer": "ipython3",
   "version": "3.9.12"
  },
  "orig_nbformat": 4,
  "vscode": {
   "interpreter": {
    "hash": "ab3998dfe30c80ec09966f1c1c22599dbc97f8addec2a6e411573497b2b43570"
   }
  }
 },
 "nbformat": 4,
 "nbformat_minor": 2
}
